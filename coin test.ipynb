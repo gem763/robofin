{
 "cells": [
  {
   "cell_type": "code",
   "execution_count": 9,
   "metadata": {},
   "outputs": [
    {
     "name": "stdout",
     "output_type": "stream",
     "text": [
      "The autoreload extension is already loaded. To reload it, use:\n",
      "  %reload_ext autoreload\n"
     ]
    }
   ],
   "source": [
    "%load_ext autoreload\n",
    "%autoreload\n",
    "\n",
    "from data.models import Coin\n",
    "from django.db.models import Q\n",
    "import pandas as pd"
   ]
  },
  {
   "cell_type": "code",
   "execution_count": 2,
   "metadata": {},
   "outputs": [],
   "source": [
    "class Master:\n",
    "    def __init__(self):\n",
    "        pass\n",
    "    \n",
    "    @classmethod\n",
    "    def inherited_from(cls, parent_cls):\n",
    "        if parent_cls in cls.__mro__:\n",
    "            return True\n",
    "        else:\n",
    "            raise cls.NotInheritedError()\n",
    "            \n",
    "    class NotInheritedError(Exception):\n",
    "        pass"
   ]
  },
  {
   "cell_type": "code",
   "execution_count": 23,
   "metadata": {},
   "outputs": [],
   "source": [
    "class Data(Master):\n",
    "    def __init__(self):\n",
    "        pass\n",
    "    \n",
    "    @property\n",
    "    def _data_type(self):\n",
    "        return None\n",
    "\n",
    "    \n",
    "class MarketData(Data):\n",
    "    def get_close(self, *, start=None, end=None):\n",
    "        return self._query(start=start, end=end, items=['close'])\n",
    "\n",
    "    def get_high(self, *, start=None, end=None):\n",
    "        return self._query(start=start, end=end, items=['high'])\n",
    "    \n",
    "    def get_low(self, *, start=None, end=None):\n",
    "        return self._query(start=start, end=end, items=['low'])\n",
    "    \n",
    "    def get_open(self, *, start=None, end=None):\n",
    "        return self._query(start=start, end=end, items=['open'])    \n",
    "\n",
    "    def get_volume(self, *, start=None, end=None):\n",
    "        return self._query(start=start, end=end, items=['volume'])    \n",
    "\n",
    "    def get_amount(self, *, start=None, end=None):\n",
    "        return self._query(start=start, end=end, items=['amount'])    \n",
    "    \n",
    "    def get_data(self, *, start=None, end=None, items=[]):\n",
    "        return self._query(start=start, end=end, items=items)\n",
    "        \n",
    "    def _query(self, *, start=None, end=None, items=[]):\n",
    "        raise NotImplementedError\n",
    "    \n",
    "\n",
    "class CoinMarketData(MarketData):\n",
    "    def __init__(self, *, symbol, ccy, exchange):\n",
    "        Coin.update(symbol=symbol, ccy=ccy, exchange=exchange)\n",
    "        self.coin = Coin.objects.filter(symbol=symbol, ccy=ccy, exchange=exchange)\n",
    "        super().__init__()\n",
    "        \n",
    "    def _query(self, *, start=None, end=None, items=[]):\n",
    "        q = Q()\n",
    "        if start is not None: \n",
    "            q.add(Q(time__gte=start), Q.AND)\n",
    "            \n",
    "        if end is not None:\n",
    "            q.add(Q(time__lte=end), Q.AND)\n",
    "        \n",
    "        data = self.coin.filter(q)\n",
    "        return pd.DataFrame(list(data.values('time', *items))).set_index('time').sort_index()"
   ]
  },
  {
   "cell_type": "code",
   "execution_count": 29,
   "metadata": {},
   "outputs": [
    {
     "name": "stdout",
     "output_type": "stream",
     "text": [
      "2019-04-06 00:00:00 - 2019-06-28 07:00:00+00:00\n",
      "2019-01-12 16:00:00 - 2019-04-05 23:59:59\n",
      "2018-10-21 08:00:00 - 2019-01-12 15:59:59\n",
      "2018-07-30 00:00:00 - 2018-10-21 07:59:59\n",
      "2018-05-07 16:00:00 - 2018-07-29 23:59:59\n",
      "2018-04-27 22:00:00 - 2018-05-07 15:59:59\n",
      "completed\n"
     ]
    }
   ],
   "source": [
    "data = CoinMarketData(symbol='EOS', ccy='KRW', exchange='upbit')"
   ]
  },
  {
   "cell_type": "code",
   "execution_count": 30,
   "metadata": {},
   "outputs": [
    {
     "data": {
      "text/html": [
       "<div>\n",
       "<style scoped>\n",
       "    .dataframe tbody tr th:only-of-type {\n",
       "        vertical-align: middle;\n",
       "    }\n",
       "\n",
       "    .dataframe tbody tr th {\n",
       "        vertical-align: top;\n",
       "    }\n",
       "\n",
       "    .dataframe thead th {\n",
       "        text-align: right;\n",
       "    }\n",
       "</style>\n",
       "<table border=\"1\" class=\"dataframe\">\n",
       "  <thead>\n",
       "    <tr style=\"text-align: right;\">\n",
       "      <th></th>\n",
       "      <th>amount</th>\n",
       "    </tr>\n",
       "    <tr>\n",
       "      <th>time</th>\n",
       "      <th></th>\n",
       "    </tr>\n",
       "  </thead>\n",
       "  <tbody>\n",
       "    <tr>\n",
       "      <th>2019-06-28 00:00:00+00:00</th>\n",
       "      <td>1.838374e+09</td>\n",
       "    </tr>\n",
       "    <tr>\n",
       "      <th>2019-06-28 01:00:00+00:00</th>\n",
       "      <td>1.144387e+09</td>\n",
       "    </tr>\n",
       "    <tr>\n",
       "      <th>2019-06-28 02:00:00+00:00</th>\n",
       "      <td>1.458681e+09</td>\n",
       "    </tr>\n",
       "    <tr>\n",
       "      <th>2019-06-28 03:00:00+00:00</th>\n",
       "      <td>1.093478e+09</td>\n",
       "    </tr>\n",
       "    <tr>\n",
       "      <th>2019-06-28 04:00:00+00:00</th>\n",
       "      <td>1.136259e+09</td>\n",
       "    </tr>\n",
       "    <tr>\n",
       "      <th>2019-06-28 05:00:00+00:00</th>\n",
       "      <td>1.040851e+09</td>\n",
       "    </tr>\n",
       "    <tr>\n",
       "      <th>2019-06-28 06:00:00+00:00</th>\n",
       "      <td>1.601972e+09</td>\n",
       "    </tr>\n",
       "    <tr>\n",
       "      <th>2019-06-28 07:00:00+00:00</th>\n",
       "      <td>1.066724e+09</td>\n",
       "    </tr>\n",
       "  </tbody>\n",
       "</table>\n",
       "</div>"
      ],
      "text/plain": [
       "                                 amount\n",
       "time                                   \n",
       "2019-06-28 00:00:00+00:00  1.838374e+09\n",
       "2019-06-28 01:00:00+00:00  1.144387e+09\n",
       "2019-06-28 02:00:00+00:00  1.458681e+09\n",
       "2019-06-28 03:00:00+00:00  1.093478e+09\n",
       "2019-06-28 04:00:00+00:00  1.136259e+09\n",
       "2019-06-28 05:00:00+00:00  1.040851e+09\n",
       "2019-06-28 06:00:00+00:00  1.601972e+09\n",
       "2019-06-28 07:00:00+00:00  1.066724e+09"
      ]
     },
     "execution_count": 30,
     "metadata": {},
     "output_type": "execute_result"
    }
   ],
   "source": [
    "data.get_amount(start='2019-06-28 00:00:00+00:00')"
   ]
  },
  {
   "cell_type": "code",
   "execution_count": null,
   "metadata": {},
   "outputs": [],
   "source": []
  },
  {
   "cell_type": "code",
   "execution_count": null,
   "metadata": {},
   "outputs": [],
   "source": []
  },
  {
   "cell_type": "code",
   "execution_count": null,
   "metadata": {},
   "outputs": [],
   "source": []
  },
  {
   "cell_type": "code",
   "execution_count": null,
   "metadata": {},
   "outputs": [],
   "source": []
  },
  {
   "cell_type": "code",
   "execution_count": null,
   "metadata": {},
   "outputs": [],
   "source": []
  },
  {
   "cell_type": "code",
   "execution_count": null,
   "metadata": {},
   "outputs": [],
   "source": []
  },
  {
   "cell_type": "code",
   "execution_count": null,
   "metadata": {},
   "outputs": [],
   "source": []
  },
  {
   "cell_type": "code",
   "execution_count": null,
   "metadata": {},
   "outputs": [],
   "source": []
  },
  {
   "cell_type": "code",
   "execution_count": null,
   "metadata": {},
   "outputs": [],
   "source": []
  }
 ],
 "metadata": {
  "kernelspec": {
   "display_name": "Django Shell-Plus",
   "language": "python",
   "name": "django_extensions"
  },
  "language_info": {
   "codemirror_mode": {
    "name": "ipython",
    "version": 3
   },
   "file_extension": ".py",
   "mimetype": "text/x-python",
   "name": "python",
   "nbconvert_exporter": "python",
   "pygments_lexer": "ipython3",
   "version": "3.7.3"
  }
 },
 "nbformat": 4,
 "nbformat_minor": 2
}
