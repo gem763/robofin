{
 "cells": [
  {
   "cell_type": "code",
   "execution_count": 86,
   "metadata": {},
   "outputs": [
    {
     "name": "stdout",
     "output_type": "stream",
     "text": [
      "The autoreload extension is already loaded. To reload it, use:\n",
      "  %reload_ext autoreload\n"
     ]
    }
   ],
   "source": [
    "%load_ext autoreload\n",
    "%autoreload\n",
    "\n",
    "from data.models import Coin\n",
    "import pandas as pd"
   ]
  },
  {
   "cell_type": "code",
   "execution_count": 77,
   "metadata": {
    "scrolled": true
   },
   "outputs": [
    {
     "name": "stdout",
     "output_type": "stream",
     "text": [
      "2019-04-05 21:00:00 - 2019-06-28 04:00:00+00:00\n",
      "2019-01-12 13:00:00 - 2019-04-05 20:59:59\n",
      "2018-10-21 05:00:00 - 2019-01-12 12:59:59\n",
      "2018-07-29 21:00:00 - 2018-10-21 04:59:59\n",
      "2018-05-07 13:00:00 - 2018-07-29 20:59:59\n",
      "2018-04-27 22:00:00 - 2018-05-07 12:59:59\n",
      "completed\n"
     ]
    }
   ],
   "source": [
    "Coin.update(symbol='BTC', ccy='KRW', exchange='upbit')"
   ]
  },
  {
   "cell_type": "code",
   "execution_count": null,
   "metadata": {},
   "outputs": [],
   "source": []
  },
  {
   "cell_type": "code",
   "execution_count": 78,
   "metadata": {},
   "outputs": [],
   "source": [
    "class Master:\n",
    "    def __init__(self):\n",
    "        pass\n",
    "    \n",
    "    @classmethod\n",
    "    def inherited_from(cls, parent_cls):\n",
    "        if parent_cls in cls.__mro__:\n",
    "            return True\n",
    "        else:\n",
    "            raise cls.NotInheritedError()\n",
    "            \n",
    "    class NotInheritedError(Exception):\n",
    "        pass"
   ]
  },
  {
   "cell_type": "code",
   "execution_count": 123,
   "metadata": {},
   "outputs": [],
   "source": [
    "class Data(Master):\n",
    "    def __init__(self):\n",
    "        pass\n",
    "    \n",
    "    @property\n",
    "    def _data_type(self):\n",
    "        return None\n",
    "    \n",
    "    \n",
    "class MarketData(Data):\n",
    "    def price(self, asof=None, start=None, end=None, tickers=None):\n",
    "        return self.get_marketdata(asof=asof, start=start, end=end, tickers=tickers, item='price')\n",
    "    \n",
    "    def _marketdata(self, *, start, end, items=[]):\n",
    "        raise NotImplementedError\n",
    "    \n",
    "\n",
    "class CoinMarketData(MarketData):\n",
    "    def __init__(self, *, symbol, ccy, exchange):\n",
    "        Coin.update(symbol=symbol, ccy=ccy, exchange=exchange)\n",
    "        self.coin = Coin.objects.filter(symbol=symbol, ccy=ccy, exchange=exchange)\n",
    "        super().__init__()\n",
    "        \n",
    "    def _marketdata(self, *, start, end, items=[]):\n",
    "        marketdata = self.coin.filter(time__gte=start, time__lte=end)\n",
    "        return pd.DataFrame(list(marketdata.values('time', *items))).set_index('time').sort_index()"
   ]
  },
  {
   "cell_type": "code",
   "execution_count": 124,
   "metadata": {},
   "outputs": [
    {
     "name": "stdout",
     "output_type": "stream",
     "text": [
      "fully updated already\n"
     ]
    }
   ],
   "source": [
    "data = CoinMarketData(symbol='BTC', ccy='KRW', exchange='upbit')"
   ]
  },
  {
   "cell_type": "code",
   "execution_count": 125,
   "metadata": {},
   "outputs": [
    {
     "data": {
      "text/html": [
       "<div>\n",
       "<style scoped>\n",
       "    .dataframe tbody tr th:only-of-type {\n",
       "        vertical-align: middle;\n",
       "    }\n",
       "\n",
       "    .dataframe tbody tr th {\n",
       "        vertical-align: top;\n",
       "    }\n",
       "\n",
       "    .dataframe thead th {\n",
       "        text-align: right;\n",
       "    }\n",
       "</style>\n",
       "<table border=\"1\" class=\"dataframe\">\n",
       "  <thead>\n",
       "    <tr style=\"text-align: right;\">\n",
       "      <th></th>\n",
       "      <th>close</th>\n",
       "      <th>volume</th>\n",
       "    </tr>\n",
       "    <tr>\n",
       "      <th>time</th>\n",
       "      <th></th>\n",
       "      <th></th>\n",
       "    </tr>\n",
       "  </thead>\n",
       "  <tbody>\n",
       "    <tr>\n",
       "      <th>2019-06-28 00:00:00+00:00</th>\n",
       "      <td>14401000.0</td>\n",
       "      <td>375.83</td>\n",
       "    </tr>\n",
       "    <tr>\n",
       "      <th>2019-06-28 01:00:00+00:00</th>\n",
       "      <td>14196000.0</td>\n",
       "      <td>310.37</td>\n",
       "    </tr>\n",
       "    <tr>\n",
       "      <th>2019-06-28 02:00:00+00:00</th>\n",
       "      <td>13758000.0</td>\n",
       "      <td>312.92</td>\n",
       "    </tr>\n",
       "    <tr>\n",
       "      <th>2019-06-28 03:00:00+00:00</th>\n",
       "      <td>14067000.0</td>\n",
       "      <td>480.83</td>\n",
       "    </tr>\n",
       "    <tr>\n",
       "      <th>2019-06-28 04:00:00+00:00</th>\n",
       "      <td>13864000.0</td>\n",
       "      <td>413.52</td>\n",
       "    </tr>\n",
       "    <tr>\n",
       "      <th>2019-06-28 05:00:00+00:00</th>\n",
       "      <td>13898000.0</td>\n",
       "      <td>382.33</td>\n",
       "    </tr>\n",
       "  </tbody>\n",
       "</table>\n",
       "</div>"
      ],
      "text/plain": [
       "                                close  volume\n",
       "time                                         \n",
       "2019-06-28 00:00:00+00:00  14401000.0  375.83\n",
       "2019-06-28 01:00:00+00:00  14196000.0  310.37\n",
       "2019-06-28 02:00:00+00:00  13758000.0  312.92\n",
       "2019-06-28 03:00:00+00:00  14067000.0  480.83\n",
       "2019-06-28 04:00:00+00:00  13864000.0  413.52\n",
       "2019-06-28 05:00:00+00:00  13898000.0  382.33"
      ]
     },
     "execution_count": 125,
     "metadata": {},
     "output_type": "execute_result"
    }
   ],
   "source": [
    "data._marketdata(start='2019-06-28 00:00:00+00:00', end='2019-06-29 00:00:00+00:00', items=['close', 'volume'])"
   ]
  },
  {
   "cell_type": "code",
   "execution_count": null,
   "metadata": {},
   "outputs": [],
   "source": []
  }
 ],
 "metadata": {
  "kernelspec": {
   "display_name": "Django Shell-Plus",
   "language": "python",
   "name": "django_extensions"
  },
  "language_info": {
   "codemirror_mode": {
    "name": "ipython",
    "version": 3
   },
   "file_extension": ".py",
   "mimetype": "text/x-python",
   "name": "python",
   "nbconvert_exporter": "python",
   "pygments_lexer": "ipython3",
   "version": "3.7.3"
  }
 },
 "nbformat": 4,
 "nbformat_minor": 2
}
