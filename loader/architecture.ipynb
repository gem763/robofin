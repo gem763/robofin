{
 "cells": [
  {
   "cell_type": "markdown",
   "metadata": {},
   "source": [
    "# Master class\n",
    "* 최상위 클래스: 아래의 모든 클래스는 이 클래스를 상속받아야 한다\n",
    "* 코드를 작성하는 데 있어서 사용자가 기본적으로 지켜야 할 원칙 등을 정의한다"
   ]
  },
  {
   "cell_type": "code",
   "execution_count": 8,
   "metadata": {},
   "outputs": [],
   "source": [
    "class Master:\n",
    "    def __init__(self):\n",
    "        pass\n",
    "    \n",
    "    @classmethod\n",
    "    def inherited_from(cls, parent_cls):\n",
    "        if parent_cls in cls.__mro__:\n",
    "            return True\n",
    "        else:\n",
    "            raise cls.NotInheritedError()\n",
    "            \n",
    "    class NotInheritedError(Exception):\n",
    "        pass"
   ]
  },
  {
   "cell_type": "markdown",
   "metadata": {},
   "source": [
    "# Data class\n",
    "* 데이터 소스에 접근하는 wrapper 클래스\n",
    "* 실제 데이터는 RESTful api (http://robofin.pythonanywhere.com/api/) 로 제공한다\n",
    "\n",
    "* Sub classes (유형)\n",
    "    * MarketData: 시장데이터 (시고종저, 거래량 등)\n",
    "    * FinancialData: 재무데이터 \n",
    "    * AlternativeData: ...\n",
    "    * NewsData: ...\n",
    "\n",
    "* 사용법: 한개 이상의 sub class를 상속하거나, 완성된 Data 클래스 자체를 재상속"
   ]
  },
  {
   "cell_type": "code",
   "execution_count": 37,
   "metadata": {},
   "outputs": [],
   "source": [
    "import requests\n",
    "\n",
    "class Data(Master):\n",
    "    def __init__(self):\n",
    "        pass\n",
    "    \n",
    "    @property\n",
    "    def _data_type(self):\n",
    "        return None\n",
    "    \n",
    "    \n",
    "class MarketData(Data):\n",
    "    def price(self, asof=None, start=None, end=None, tickers=None):\n",
    "        return self.get_marketdata(asof=asof, start=start, end=end, tickers=tickers, item='price')\n",
    "    \n",
    "    def get_marketdata(self, asof=None, start=None, end=None, tickers=None, item=None):\n",
    "        raise NotImplementedError\n",
    "    \n",
    "    \n",
    "class FinancialData(Data):\n",
    "    def get_fisyear(self, asof=None, ticker=None):\n",
    "        return None\n",
    "    \n",
    "    def get_financialdata(self, asof=None, start=None, end=None, tickers=None, item=None):\n",
    "        raise NotImplementedError\n",
    "        \n",
    "    \n",
    "class AlternativeData(Data):\n",
    "    pass\n",
    "    \n",
    "    \n",
    "class KoreaStockData(MarketData, FinancialData):\n",
    "    def __init__(self):\n",
    "        pass"
   ]
  },
  {
   "cell_type": "markdown",
   "metadata": {},
   "source": [
    "### api 사용예"
   ]
  },
  {
   "cell_type": "code",
   "execution_count": 40,
   "metadata": {},
   "outputs": [
    {
     "data": {
      "text/plain": [
       "[{'ticker': 'A005930', 'date': '2016-12-31', 'price': 1802000.0},\n",
       " {'ticker': 'A005930', 'date': '2017-01-31', 'price': 1973000.0},\n",
       " {'ticker': 'A005930', 'date': '2017-02-28', 'price': 1922000.0},\n",
       " {'ticker': 'A005930', 'date': '2017-03-31', 'price': 2060000.0},\n",
       " {'ticker': 'A005930', 'date': '2017-04-30', 'price': 2231000.0},\n",
       " {'ticker': 'A005930', 'date': '2017-05-31', 'price': 2235000.0},\n",
       " {'ticker': 'A005930', 'date': '2017-06-30', 'price': 2377000.0},\n",
       " {'ticker': 'A005930', 'date': '2017-07-31', 'price': 2410000.0},\n",
       " {'ticker': 'A005930', 'date': '2017-08-31', 'price': 2316000.0},\n",
       " {'ticker': 'A005930', 'date': '2017-09-30', 'price': 2564000.0},\n",
       " {'ticker': 'A005930', 'date': '2017-10-31', 'price': 2754000.0},\n",
       " {'ticker': 'A005930', 'date': '2017-11-30', 'price': 2540000.0},\n",
       " {'ticker': 'A005930', 'date': '2017-12-31', 'price': 2548000.0}]"
      ]
     },
     "execution_count": 40,
     "metadata": {},
     "output_type": "execute_result"
    }
   ],
   "source": [
    "url = 'http://robofin.pythonanywhere.com/api/marketdata?start=2016-12-31&end=2017-12-31&ticker=A005930&item=price'\n",
    "requests.get(url).json()['results']"
   ]
  },
  {
   "cell_type": "markdown",
   "metadata": {},
   "source": [
    "# Strategy class\n",
    "* 투자전략을 설정하는 클래스\n",
    "* 제공된 데이터의 유형에 따라 Strategy 클래스의 유형이 달라짐\n",
    "* 필요한 경우 bm 포지션도 생성"
   ]
  },
  {
   "cell_type": "code",
   "execution_count": 41,
   "metadata": {},
   "outputs": [],
   "source": [
    "class Strategy(Master):\n",
    "    def __init__(self, data=None):\n",
    "        self.data = data\n",
    "        self.type = data._data_type\n",
    "        \n",
    "    def selection(self):\n",
    "        raise NotImplementedError\n",
    "    \n",
    "    def selection_bm(self):\n",
    "        pass\n",
    "    \n",
    "    def weighting(self):\n",
    "        pass"
   ]
  },
  {
   "cell_type": "markdown",
   "metadata": {},
   "source": [
    "# Exit class\n",
    "* 포지션의 일부 또는 전부를 exit 하는 전략을 구현하는 클래스\n",
    "* sub classes\n",
    "    * ProfitTake\n",
    "    * Losscut\n",
    "    * Reentry\n",
    "* 사용법: 하나 이상의 sub classes를 상속하거나, DefaultExit를 상속"
   ]
  },
  {
   "cell_type": "code",
   "execution_count": 33,
   "metadata": {},
   "outputs": [],
   "source": [
    "class Exit(Master):\n",
    "    def __init__(self, data=None):\n",
    "        self.data = data\n",
    "        self.type = data._data_type\n",
    "\n",
    "class ProfitTake(Exit):\n",
    "    def __init__(self):\n",
    "        pass\n",
    "    \n",
    "class Losscut(Exit):\n",
    "    def __init__(self):\n",
    "        pass\n",
    "    \n",
    "class Reentry(Exit):\n",
    "    def __init__(self):\n",
    "        pass\n",
    "    \n",
    "class DefaultExit(ProfitTake, Losscut, Reentry):\n",
    "    def __init__(self):\n",
    "        pass"
   ]
  },
  {
   "cell_type": "markdown",
   "metadata": {},
   "source": [
    "# Review class\n",
    "* 성과측정을 구현한 class"
   ]
  },
  {
   "cell_type": "code",
   "execution_count": 13,
   "metadata": {},
   "outputs": [],
   "source": [
    "class Review(Master):\n",
    "    def __init__(self):\n",
    "        pass\n",
    "    \n",
    "    def get_annualized_return(self):\n",
    "        return None\n",
    "    \n",
    "    def get_volatility(self):\n",
    "        return None\n",
    "    \n",
    "    def get_sharpe(self):\n",
    "        return None\n",
    "    \n",
    "    def get_stats(self):\n",
    "        return None"
   ]
  },
  {
   "cell_type": "markdown",
   "metadata": {},
   "source": [
    "# Backtester class\n",
    "* 100% 우리가 관리하는 클래스\n",
    "* 이 클래스를 상속(확장)할 수 있게 열어두나...? 생각해보자"
   ]
  },
  {
   "cell_type": "code",
   "execution_count": 20,
   "metadata": {},
   "outputs": [],
   "source": [
    "class Backtester:\n",
    "    def __init__(self, strategy=None, data=None, exit=DefaultExit, review=Review):\n",
    "        self.strategy = self._modulize(strategy, Strategy)\n",
    "        self.data = self._modulize(data, Data)\n",
    "        self.exit = self._modulize(exit, Exit)\n",
    "        self.review = self._modulize(review, Review)\n",
    "        \n",
    "    def _modulize(self, module, parent_cls):\n",
    "        if module.inherited_from(parent_cls):\n",
    "            return module\n",
    "        \n",
    "    def run(self):\n",
    "        pass"
   ]
  },
  {
   "cell_type": "markdown",
   "metadata": {},
   "source": [
    "# Use case"
   ]
  },
  {
   "cell_type": "code",
   "execution_count": 34,
   "metadata": {},
   "outputs": [],
   "source": [
    "class MyStrat(Strategy):\n",
    "    def __init__(self, data=KoreaStockData):\n",
    "        pass\n",
    "    \n",
    "class MyExit(DefaultExit):\n",
    "    def __init__(self, data=KoreaStockData):\n",
    "        pass\n",
    "    \n",
    "class MyReview(Review):\n",
    "    def __init__(self):\n",
    "        pass"
   ]
  },
  {
   "cell_type": "code",
   "execution_count": 35,
   "metadata": {},
   "outputs": [],
   "source": [
    "bt = Backtester(strategy=MyStrat, data=KoreaStockData, exit=MyExit, review=MyReview)"
   ]
  },
  {
   "cell_type": "code",
   "execution_count": null,
   "metadata": {},
   "outputs": [],
   "source": []
  }
 ],
 "metadata": {
  "kernelspec": {
   "display_name": "Python 3",
   "language": "python",
   "name": "python3"
  },
  "language_info": {
   "codemirror_mode": {
    "name": "ipython",
    "version": 3
   },
   "file_extension": ".py",
   "mimetype": "text/x-python",
   "name": "python",
   "nbconvert_exporter": "python",
   "pygments_lexer": "ipython3",
   "version": "3.7.1"
  }
 },
 "nbformat": 4,
 "nbformat_minor": 2
}
